{
  "nbformat": 4,
  "nbformat_minor": 0,
  "metadata": {
    "colab": {
      "provenance": [],
      "authorship_tag": "ABX9TyMwntU1AZ2VUTwASWzofX1X",
      "include_colab_link": true
    },
    "kernelspec": {
      "name": "python3",
      "display_name": "Python 3"
    },
    "language_info": {
      "name": "python"
    }
  },
  "cells": [
    {
      "cell_type": "markdown",
      "metadata": {
        "id": "view-in-github",
        "colab_type": "text"
      },
      "source": [
        "<a href=\"https://colab.research.google.com/github/rogeriocgp/desafio-01-bootcam-NTT-DATA-Diversidade_Tech/blob/main/Untitled8.ipynb\" target=\"_parent\"><img src=\"https://colab.research.google.com/assets/colab-badge.svg\" alt=\"Open In Colab\"/></a>"
      ]
    },
    {
      "cell_type": "markdown",
      "source": [
        "**UDEMY**\n",
        "\n",
        "Aula 25 - Primeiro exemplo\n",
        "Atalho para rodar o programa : **Ctrl + enter**"
      ],
      "metadata": {
        "id": "B_5Atg_8OPwR"
      }
    },
    {
      "cell_type": "code",
      "source": [
        "print(\"Olá mundo!\")\n",
        "print(\"primeiro programa\")\n",
        "print(2 + 3 + 6)\n",
        "\n",
        "help(print)"
      ],
      "metadata": {
        "id": "uSwIGExHOYJr"
      },
      "execution_count": null,
      "outputs": []
    }
  ]
}